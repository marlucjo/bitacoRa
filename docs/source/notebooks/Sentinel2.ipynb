{
 "cells": [
  {
   "cell_type": "markdown",
   "metadata": {},
   "source": [
    "### Sentinel-2\n",
    "\n",
    "Los datos de Sentinel-2 se adquieren en 13 bandas espectrales en la V, NIR y SWIR . \n",
    "\n",
    "![image]( https://pbs.twimg.com/media/C6AXwkmU0AEct5P.jpg )\n",
    "![image]( http://danielmarin.naukas.com/files/2015/06/Captura-de-pantalla-2015-06-24-a-las-20.28.54.png )\n",
    "\n",
    "\n",
    "\n",
    "| Bandas | Resolución Espacial (m) | Resolución Espectral (nm)| \n",
    "|:----------:|:----------:|:----------:|\n",
    "|Banda 1 (Aerosol) |60| 443 |\n",
    "|Banda 2 (Azul)| 10 |490| \n",
    "|Banda 3 (Verde)| 10| 560| \n",
    "|Banda 4 (Rojo)| 10| 665| \n",
    "|Banda 5 (Infrarrojo cercano -NIR)| 20| 705| \n",
    "|Banda 6 (NIR)| 20| 740| \n",
    "|Banda 7 (NIR)| 20| 783| \n",
    "|Banda 8 (NIR)| 10| 842| \n",
    "|Banda 8a (Infrarrojo cercano - NIR)| 20| 865| \n",
    "|Banda 9 (Vapor de Agua)| 60| 9945| \n",
    "|Banda 10 (Cirrus)| 60| 1375| \n",
    "|Banda 11 (Infrarrojo Lejano - SWIR)| 20| 1610| \n",
    "|Banda 12 ( SWIR)| 20| 2190|"
   ]
  }
 ],
 "metadata": {
  "kernelspec": {
   "display_name": "Python 3",
   "language": "python",
   "name": "python3"
  },
  "language_info": {
   "codemirror_mode": {
    "name": "ipython",
    "version": 3
   },
   "file_extension": ".py",
   "mimetype": "text/x-python",
   "name": "python",
   "nbconvert_exporter": "python",
   "pygments_lexer": "ipython3",
   "version": "3.6.2"
  }
 },
 "nbformat": 4,
 "nbformat_minor": 2
}
© 2019 GitHub, Inc.
Terms
Privacy
Security
Status
Help
Contact GitHub
Pricing
API
Training
Blog
About
